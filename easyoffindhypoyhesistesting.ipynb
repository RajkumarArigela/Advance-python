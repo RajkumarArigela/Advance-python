{
  "nbformat": 4,
  "nbformat_minor": 0,
  "metadata": {
    "colab": {
      "provenance": [],
      "authorship_tag": "ABX9TyMfgWHn4erUTP0uvmTpvsRh",
      "include_colab_link": true
    },
    "kernelspec": {
      "name": "python3",
      "display_name": "Python 3"
    },
    "language_info": {
      "name": "python"
    }
  },
  "cells": [
    {
      "cell_type": "markdown",
      "metadata": {
        "id": "view-in-github",
        "colab_type": "text"
      },
      "source": [
        "<a href=\"https://colab.research.google.com/github/RajkumarArigela/Advance-python/blob/main/easyoffindhypoyhesistesting.ipynb\" target=\"_parent\"><img src=\"https://colab.research.google.com/assets/colab-badge.svg\" alt=\"Open In Colab\"/></a>"
      ]
    },
    {
      "cell_type": "code",
      "source": [
        "from scipy.stats import t\n",
        "import math\n",
        "\n",
        "# === Input values ===\n",
        "xbar = float(input(\"Enter sample mean (x̄): \"))\n",
        "mu = float(input(\"Enter population mean (μ₀): \"))\n",
        "s = float(input(\"Enter sample standard deviation (s): \"))\n",
        "n = int(input(\"Enter sample size (n): \"))\n",
        "alpha = float(input(\"Enter significance level (α, e.g. 0.05): \"))\n",
        "test_type = input(\"Enter test type: 'left', 'right', or 'two': \").lower()\n",
        "\n",
        "# === Calculations ===\n",
        "df = n - 1\n",
        "t_stat = (xbar - mu) / (s / math.sqrt(n))\n",
        "\n",
        "# Determine critical value(s) and decision\n",
        "if test_type == 'right':\n",
        "    t_critical = t.ppf(1 - alpha, df)\n",
        "    p_value = 1 - t.cdf(t_stat, df)\n",
        "    decision = \"Reject H₀ null hypothsis\" if t_stat > t_critical else \"Fail to Reject H₀null hypothsis \"\n",
        "\n",
        "elif test_type == 'left':\n",
        "    t_critical = t.ppf(alpha, df)\n",
        "    p_value = t.cdf(t_stat, df)\n",
        "    decision = \"Reject H₀ null hypothsis\" if t_stat < t_critical else \"Fail to Reject H₀ null hypothsis\"\n",
        "\n",
        "elif test_type == 'two':\n",
        "    t_critical = t.ppf(1 - alpha / 2, df)\n",
        "    p_value = 2 * (1 - t.cdf(abs(t_stat), df))\n",
        "    decision = \"Reject H₀ null hypothesis\" if abs(t_stat) > t_critical else \"Fail to Reject H₀ null hypthesis\"\n",
        "\n",
        "else:\n",
        "    raise ValueError(\"Invalid test type. Choose 'left', 'right', or 'two'.\")\n",
        "\n",
        "# === Output ===\n",
        "print(\"\\n--- Results ---\")\n",
        "print(f\"Degrees of Freedom = {df}\")\n",
        "print(f\"t-statistic = {t_stat:.4f}\")\n",
        "print(f\"t-critical = {t_critical:.4f}\")\n",
        "print(f\"p-value = {p_value:.4f}\")\n",
        "print(f\"Decision: {decision}\")\n"
      ],
      "metadata": {
        "colab": {
          "base_uri": "https://localhost:8080/"
        },
        "id": "7Z3NxThg05Vy",
        "outputId": "de3021ca-251c-4376-9bac-77adadb325ae"
      },
      "execution_count": null,
      "outputs": [
        {
          "output_type": "stream",
          "name": "stdout",
          "text": [
            "Enter sample mean (x̄): 208\n",
            "Enter population mean (μ₀): 200\n",
            "Enter sample standard deviation (s): 12\n",
            "Enter sample size (n): 25\n",
            "Enter significance level (α, e.g. 0.05): 0.05\n",
            "Enter test type: 'left', 'right', or 'two': right\n",
            "\n",
            "--- Results ---\n",
            "Degrees of Freedom = 24\n",
            "t-statistic = 3.3333\n",
            "t-critical = 1.7109\n",
            "p-value = 0.0014\n",
            "Decision: Reject H₀ null hypothsis\n"
          ]
        }
      ]
    }
  ]
}